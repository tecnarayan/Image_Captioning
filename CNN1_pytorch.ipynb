{
  "nbformat": 4,
  "nbformat_minor": 0,
  "metadata": {
    "colab": {
      "provenance": [],
      "gpuType": "T4"
    },
    "kernelspec": {
      "name": "python3",
      "display_name": "Python 3"
    },
    "language_info": {
      "name": "python"
    },
    "accelerator": "GPU"
  },
  "cells": [
    {
      "cell_type": "code",
      "execution_count": 1,
      "metadata": {
        "id": "AVxP7gvpSKL0"
      },
      "outputs": [],
      "source": [
        "import numpy as np\n",
        "import pandas as pd\n",
        "import matplotlib.pyplot as plt\n",
        "from sklearn.model_selection import train_test_split\n",
        "import torch\n",
        "import torch.nn as nn\n",
        "from torch.optim import SGD\n",
        "from torch.optim import Adam\n",
        "import torch.nn.functional as F\n",
        "import torchvision.transforms as transforms\n",
        "import torchvision.datasets as dsets"
      ]
    },
    {
      "cell_type": "code",
      "source": [
        "composed = transforms.Compose([transforms.ToTensor(), transforms.Normalize((0.5,0.5,0.5),(0.5,0.5,0.5))])\n",
        "composed_ext = transforms.Compose([transforms.RandomHorizontalFlip(), \n",
        "                                   transforms.Normalize((0.5,0.5,0.5),(0.5,0.5,0.5)),\n",
        "                                   transforms.RandomRotation(degrees=20),\n",
        "                                   transforms.ColorJitter(brightness=0.4, contrast=0.4, saturation=0.4),\n",
        "                                   transforms.ToTensor()\n",
        "                                   ])\n",
        "train = dsets.CIFAR10(root='./data', train=True, download=True, transform=composed_ext)\n",
        "test = dsets.CIFAR10(root='./data', train=False, download=True, transform=composed)"
      ],
      "metadata": {
        "colab": {
          "base_uri": "https://localhost:8080/"
        },
        "id": "7h_qXNPLrfIy",
        "outputId": "90e6a8f1-ceda-4870-816b-279b15dc156b"
      },
      "execution_count": 2,
      "outputs": [
        {
          "output_type": "stream",
          "name": "stdout",
          "text": [
            "Downloading https://www.cs.toronto.edu/~kriz/cifar-10-python.tar.gz to ./data/cifar-10-python.tar.gz\n"
          ]
        },
        {
          "output_type": "stream",
          "name": "stderr",
          "text": [
            "100%|██████████| 170498071/170498071 [00:01<00:00, 102880134.55it/s]\n"
          ]
        },
        {
          "output_type": "stream",
          "name": "stdout",
          "text": [
            "Extracting ./data/cifar-10-python.tar.gz to ./data\n",
            "Files already downloaded and verified\n"
          ]
        }
      ]
    },
    {
      "cell_type": "code",
      "source": [
        "x_train = train.data\n",
        "y_train = train.targets\n",
        "x_test = test.data\n",
        "y_test = test.targets"
      ],
      "metadata": {
        "id": "cAwZnr-ZrrSA"
      },
      "execution_count": 3,
      "outputs": []
    },
    {
      "cell_type": "code",
      "source": [
        "model = nn.Sequential(\n",
        "        nn.Conv2d(in_channels=3, out_channels=32, kernel_size=3, stride=1, padding=1),\n",
        "        nn.ReLU(),\n",
        "        nn.BatchNorm2d(32),\n",
        "        nn.Conv2d(in_channels=32, out_channels=64, kernel_size=3, stride=1, padding=1),\n",
        "        nn.ReLU(),\n",
        "        nn.BatchNorm2d(64),\n",
        "        nn.MaxPool2d(kernel_size=2, stride=2),\n",
        "        nn.Conv2d(in_channels=64, out_channels=128, kernel_size=3, stride=1, padding=1),\n",
        "        nn.ReLU(),\n",
        "        nn.BatchNorm2d(128),\n",
        "        nn.Conv2d(in_channels=128, out_channels=128, kernel_size=3, stride=1, padding=1),\n",
        "        nn.ReLU(),\n",
        "        nn.BatchNorm2d(128),\n",
        "        nn.MaxPool2d(kernel_size=2, stride=2),\n",
        "        nn.Flatten(),\n",
        "        nn.Linear(128 * 8 * 8, 4000),\n",
        "        nn.BatchNorm1d(4000),\n",
        "        nn.LeakyReLU(),\n",
        "        nn.Dropout(0.5),\n",
        "        nn.Linear(4000 , 1000),\n",
        "        nn.LeakyReLU(),\n",
        "        nn.Dropout(0.5),\n",
        "        nn.Linear(1000 , 200),\n",
        "        nn.BatchNorm1d(200),\n",
        "        nn.LeakyReLU(),\n",
        "        nn.Dropout(0.5),\n",
        "        nn.Linear(200, 50),\n",
        "        nn.LeakyReLU(),\n",
        "        nn.Dropout(0.5),\n",
        "        nn.Linear(50,10),\n",
        "        nn.LeakyReLU()\n",
        ")"
      ],
      "metadata": {
        "id": "b-T34DWprxCt"
      },
      "execution_count": 16,
      "outputs": []
    },
    {
      "cell_type": "code",
      "source": [
        "optimizer = Adam(model.parameters(),lr=0.01, betas=(0.9,0.99))\n",
        "\n",
        "loss_func = nn.CrossEntropyLoss()\n",
        "\n",
        "def batches(input , target , batchsize = 8):\n",
        "    for i in range(0,input.shape[0],batchsize):\n",
        "        yield(input[i : i + batchsize],target[i : i + batchsize])"
      ],
      "metadata": {
        "id": "0sG2sG74r4Dv"
      },
      "execution_count": 17,
      "outputs": []
    },
    {
      "cell_type": "code",
      "source": [
        "if torch.cuda.is_available():\n",
        "    print(\"CUDA is available!\")\n",
        "else:\n",
        "    print(\"CUDA is not available!\")\n",
        "\n",
        "device = torch.device(\"cuda\" if torch.cuda.is_available() else \"cpu\")\n",
        "\n",
        "model = model.to(device)"
      ],
      "metadata": {
        "colab": {
          "base_uri": "https://localhost:8080/"
        },
        "id": "R_S7LLPUsxIv",
        "outputId": "2aa5949c-2c93-4ac9-c8ee-3b2a27b85155"
      },
      "execution_count": 18,
      "outputs": [
        {
          "output_type": "stream",
          "name": "stdout",
          "text": [
            "CUDA is available!\n"
          ]
        }
      ]
    },
    {
      "cell_type": "code",
      "source": [
        "\n",
        "accuracy = 0\n",
        "num = 0\n",
        "for epoch in range(0,50):\n",
        "    accuracy = 0\n",
        "    num = 0\n",
        "    model.train()\n",
        "    for X,Y in batches(x_train,y_train,256):\n",
        "        X = torch.Tensor(X.transpose(0, 3, 1, 2)) # Convert X to a PyTorch Tensor\n",
        "        Y = torch.Tensor(Y)\n",
        "        X = X.to(device)\n",
        "        Y = Y.to(device)\n",
        "        prediction = model(X)\n",
        "        loss = loss_func(prediction , Y.long())\n",
        "        optimizer.zero_grad()\n",
        "        loss.backward()\n",
        "        optimizer.step()\n",
        "        accuracy += (prediction.max(1)[1] == Y).sum().item()\n",
        "        num += Y.size(0)\n",
        "    print(accuracy/num)"
      ],
      "metadata": {
        "colab": {
          "base_uri": "https://localhost:8080/"
        },
        "id": "AZwoQxitr9Zc",
        "outputId": "fd397938-dd3e-4b21-f3b5-1bab98bbefa6"
      },
      "execution_count": 22,
      "outputs": [
        {
          "output_type": "stream",
          "name": "stdout",
          "text": [
            "0.98646\n",
            "0.98932\n",
            "0.98826\n",
            "0.98828\n",
            "0.9901\n",
            "0.98638\n",
            "0.98974\n",
            "0.9884\n",
            "0.98974\n",
            "0.98776\n",
            "0.9909\n",
            "0.99138\n",
            "0.98804\n",
            "0.99118\n",
            "0.9906\n",
            "0.9887\n",
            "0.99114\n",
            "0.99006\n",
            "0.98866\n",
            "0.99078\n",
            "0.99132\n",
            "0.9907\n",
            "0.98962\n",
            "0.99106\n",
            "0.99118\n",
            "0.99078\n",
            "0.99154\n",
            "0.99286\n",
            "0.99082\n",
            "0.99212\n",
            "0.9923\n",
            "0.9912\n",
            "0.99058\n",
            "0.99138\n",
            "0.99246\n",
            "0.99234\n",
            "0.99206\n",
            "0.9911\n",
            "0.9926\n",
            "0.99292\n",
            "0.99158\n",
            "0.99262\n",
            "0.99344\n",
            "0.99206\n",
            "0.9925\n",
            "0.99306\n",
            "0.99334\n",
            "0.99274\n",
            "0.99106\n",
            "0.99408\n"
          ]
        }
      ]
    },
    {
      "cell_type": "code",
      "source": [
        "accuracy = 0\n",
        "num = 0\n",
        "model.eval()\n",
        "with torch.no_grad():\n",
        "    for X,Y in batches(x_test,y_test):\n",
        "        X = torch.Tensor(X.transpose(0, 3, 1, 2)) # Convert X to a PyTorch Tensor\n",
        "        Y = torch.Tensor(Y)\n",
        "        X = X.to(device)\n",
        "        Y = Y.to(device)\n",
        "        prediction = model(X)\n",
        "        accuracy += (prediction.max(1)[1] == Y).sum().item()\n",
        "        num += Y.size(0)\n",
        "\n",
        "    print(accuracy/num)"
      ],
      "metadata": {
        "colab": {
          "base_uri": "https://localhost:8080/"
        },
        "id": "EO8-WEdZH60-",
        "outputId": "6ad02127-3f70-4121-a74f-f6fe9b655eaf"
      },
      "execution_count": 23,
      "outputs": [
        {
          "output_type": "stream",
          "name": "stdout",
          "text": [
            "0.8076\n"
          ]
        }
      ]
    }
  ]
}