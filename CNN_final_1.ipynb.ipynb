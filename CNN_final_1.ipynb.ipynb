{
  "cells": [
    {
      "cell_type": "code",
      "execution_count": 1,
      "metadata": {
        "id": "nH_ION9w5yj5"
      },
      "outputs": [],
      "source": [
        "import numpy as np\n",
        "import pandas as pd\n",
        "import matplotlib.pyplot as plt\n",
        "from sklearn.model_selection import train_test_split\n",
        "import torch\n",
        "import torch.nn as nn\n",
        "from torch.optim import SGD\n",
        "from torch.optim import Adam\n",
        "import torch.nn.functional as F\n",
        "import torchvision.transforms as transforms\n",
        "import torchvision.datasets as dsets"
      ]
    },
    {
      "cell_type": "code",
      "execution_count": 2,
      "metadata": {
        "colab": {
          "base_uri": "https://localhost:8080/"
        },
        "id": "m37UH3Jn6IEd",
        "outputId": "fd741157-78d7-45a2-d16b-3687b663512f"
      },
      "outputs": [
        {
          "name": "stdout",
          "output_type": "stream",
          "text": [
            "Downloading https://www.cs.toronto.edu/~kriz/cifar-10-python.tar.gz to ./data/cifar-10-python.tar.gz\n"
          ]
        },
        {
          "name": "stderr",
          "output_type": "stream",
          "text": [
            "100%|██████████| 170498071/170498071 [00:04<00:00, 39123455.47it/s]\n"
          ]
        },
        {
          "name": "stdout",
          "output_type": "stream",
          "text": [
            "Extracting ./data/cifar-10-python.tar.gz to ./data\n",
            "Files already downloaded and verified\n"
          ]
        }
      ],
      "source": [
        "composed = transforms.Compose([transforms.ToTensor(), transforms.Normalize((0.5,0.5,0.5),(0.5,0.5,0.5))])\n",
        "composed_ext = transforms.Compose([transforms.RandomHorizontalFlip(), \n",
        "                                   transforms.Normalize((0.5,0.5,0.5),(0.5,0.5,0.5)),\n",
        "                                   transforms.RandomRotation(degrees=20),\n",
        "                                   transforms.ColorJitter(brightness=0.4, contrast=0.4, saturation=0.4),\n",
        "                                   transforms.ToTensor()\n",
        "                                   ])\n",
        "train = dsets.CIFAR10(root='./data', train=True, download=True, transform=composed_ext)\n",
        "test = dsets.CIFAR10(root='./data', train=False, download=True, transform=composed)"
      ]
    },
    {
      "cell_type": "code",
      "execution_count": 3,
      "metadata": {
        "id": "HVsre4a36SwY"
      },
      "outputs": [],
      "source": [
        "x_train = train.data\n",
        "y_train = train.targets\n",
        "x_test = test.data\n",
        "y_test = test.targets"
      ]
    },
    {
      "cell_type": "code",
      "execution_count": 31,
      "metadata": {
        "id": "-hxHJddj58pY"
      },
      "outputs": [],
      "source": [
        "model = nn.Sequential(\n",
        "    nn.Conv2d(in_channels=3, out_channels=64, kernel_size=3, stride=1, padding=1),\n",
        "    nn.ReLU(),\n",
        "    nn.BatchNorm2d(64),\n",
        "    nn.Conv2d(in_channels=64, out_channels=64, kernel_size=3, stride=1, padding=1),\n",
        "    nn.ReLU(),\n",
        "    nn.BatchNorm2d(64),\n",
        "    nn.MaxPool2d(kernel_size=2, stride=2),\n",
        "    nn.Dropout(0.5),\n",
        "    nn.Conv2d(in_channels=64, out_channels=128, kernel_size=3, stride=1, padding=1),\n",
        "    nn.ReLU(),\n",
        "    nn.BatchNorm2d(128),\n",
        "    nn.Conv2d(in_channels=128, out_channels=128, kernel_size=3, stride=1, padding=1),\n",
        "    nn.ReLU(),\n",
        "    nn.BatchNorm2d(128),\n",
        "    nn.MaxPool2d(kernel_size=2, stride=2),\n",
        "    nn.Dropout(0.5),\n",
        "    nn.Conv2d(in_channels=128, out_channels=256, kernel_size=3, stride=1, padding=1),\n",
        "    nn.ReLU(),\n",
        "    nn.BatchNorm2d(256),\n",
        "    nn.Conv2d(in_channels=256, out_channels=256, kernel_size=3, stride=1, padding=1),\n",
        "    nn.ReLU(),\n",
        "    nn.BatchNorm2d(256),\n",
        "    nn.MaxPool2d(kernel_size=2, stride=2),\n",
        "    nn.Flatten(),\n",
        "    nn.Linear(256 * 4 * 4, 4096),\n",
        "    nn.BatchNorm1d(4096),\n",
        "    nn.ReLU(),\n",
        "    nn.Dropout(0.5),\n",
        "    nn.Linear(4096, 2048),\n",
        "    nn.BatchNorm1d(2048),\n",
        "    nn.ReLU(),\n",
        "    nn.Dropout(0.5),\n",
        "    nn.Linear(2048, 1024),\n",
        "    nn.BatchNorm1d(1024),\n",
        "    nn.ReLU(),\n",
        "    nn.Dropout(0.5),\n",
        "    nn.Linear(1024, 512),\n",
        "    nn.BatchNorm1d(512),\n",
        "    nn.ReLU(),\n",
        "    nn.Dropout(0.5),\n",
        "    nn.Linear(512, 10)\n",
        ")"
      ]
    },
    {
      "cell_type": "code",
      "execution_count": 32,
      "metadata": {
        "id": "AZT9Js0D6gZ4"
      },
      "outputs": [],
      "source": [
        "optimizer = Adam(model.parameters(),lr=0.01, betas=(0.9,0.99))\n",
        "\n",
        "loss_func = nn.CrossEntropyLoss()\n",
        "\n",
        "def batches(input , target , batchsize = 8):\n",
        "    for i in range(0,input.shape[0],batchsize):\n",
        "        yield(input[i : i + batchsize],target[i : i + batchsize])"
      ]
    },
    {
      "cell_type": "code",
      "execution_count": 33,
      "metadata": {
        "colab": {
          "base_uri": "https://localhost:8080/"
        },
        "id": "lHKCuqbZ6jsv",
        "outputId": "d92b7b3b-b4ae-4b54-b1d2-56f42a5ca39e"
      },
      "outputs": [
        {
          "name": "stdout",
          "output_type": "stream",
          "text": [
            "CUDA is available!\n"
          ]
        }
      ],
      "source": [
        "if torch.cuda.is_available():\n",
        "    print(\"CUDA is available!\")\n",
        "else:\n",
        "    print(\"CUDA is not available!\")\n",
        "\n",
        "device = torch.device(\"cuda\" if torch.cuda.is_available() else \"cpu\")\n",
        "\n",
        "model = model.to(device)"
      ]
    },
    {
      "cell_type": "code",
      "execution_count": 28,
      "metadata": {
        "id": "xP9f6e066pF8"
      },
      "outputs": [],
      "source": [
        "# accuracy = 0\n",
        "# num = 0\n",
        "# for epoch in range(0,200):\n",
        "#     accuracy = 0\n",
        "#     num = 0\n",
        "#     model.train()\n",
        "#     for X,Y in batches(x_train,y_train,256):\n",
        "#         X = torch.Tensor(X.transpose(0, 3, 1, 2)) # Convert X to a PyTorch Tensor\n",
        "#         Y = torch.Tensor(Y)\n",
        "#         X = X.to(device)\n",
        "#         Y = Y.to(device)\n",
        "#         prediction = model(X)\n",
        "#         loss = loss_func(prediction , Y.long())\n",
        "#         optimizer.zero_grad()\n",
        "#         loss.backward()\n",
        "#         optimizer.step()\n",
        "#         accuracy += (prediction.max(1)[1] == Y).sum().item()\n",
        "#         num += Y.size(0)\n",
        "#     print(accuracy/num)"
      ]
    },
    {
      "cell_type": "code",
      "execution_count": 29,
      "metadata": {
        "id": "mQ9O09lJ6t49"
      },
      "outputs": [],
      "source": [
        "# accuracy = 0\n",
        "# num = 0\n",
        "# model.eval()\n",
        "# with torch.no_grad():\n",
        "#     for X,Y in batches(x_test,y_test):\n",
        "#         X = torch.Tensor(X.transpose(0, 3, 1, 2)) # Convert X to a PyTorch Tensor\n",
        "#         Y = torch.Tensor(Y)\n",
        "#         X = X.to(device)\n",
        "#         Y = Y.to(device)\n",
        "#         prediction = model(X)\n",
        "#         accuracy += (prediction.max(1)[1] == Y).sum().item()\n",
        "#         num += Y.size(0)\n",
        "\n",
        "#     print(accuracy/num)"
      ]
    },
    {
      "cell_type": "code",
      "execution_count": 34,
      "metadata": {
        "colab": {
          "base_uri": "https://localhost:8080/"
        },
        "id": "EBbDLHQR-Shi",
        "outputId": "b3fd8ebe-c476-4c1d-e197-2688f7cd4ab6"
      },
      "outputs": [
        {
          "name": "stdout",
          "output_type": "stream",
          "text": [
            "0.33848\n",
            "0.55388\n",
            "0.66094\n",
            "0.72612\n",
            "0.76854\n",
            "0.80026\n",
            "0.82418\n",
            "0.84846\n",
            "0.86588\n",
            "0.88368\n",
            "------------>> 0.8176 \n",
            "0.89834\n",
            "0.9117\n",
            "0.92518\n",
            "0.93408\n",
            "0.94122\n",
            "0.94604\n",
            "0.95398\n",
            "0.95704\n",
            "0.95996\n",
            "0.96332\n",
            "------------>> 0.8256 \n",
            "0.9637\n",
            "0.96638\n",
            "0.97004\n",
            "0.97106\n",
            "0.97288\n",
            "0.9737\n",
            "0.97454\n",
            "0.97522\n",
            "0.97642\n",
            "0.97666\n",
            "------------>> 0.8403 \n",
            "0.97818\n",
            "0.97892\n",
            "0.98044\n",
            "0.98106\n",
            "0.98038\n",
            "0.98244\n",
            "0.98266\n",
            "0.98232\n",
            "0.9835\n",
            "0.9838\n",
            "------------>> 0.8427 \n",
            "0.9825\n",
            "0.98546\n",
            "0.98482\n",
            "0.98584\n",
            "0.98644\n",
            "0.98554\n",
            "0.9863\n",
            "0.98574\n",
            "0.98684\n",
            "0.98674\n",
            "------------>> 0.8476 \n",
            "0.98824\n",
            "0.9876\n",
            "0.98846\n",
            "0.98828\n",
            "0.98872\n",
            "0.98826\n",
            "0.98776\n",
            "0.98806\n",
            "0.98992\n",
            "0.99002\n",
            "------------>> 0.8447 \n"
          ]
        }
      ],
      "source": [
        "acc_back = 0\n",
        "while True:\n",
        "    accuracy = 0\n",
        "    num = 0\n",
        "    for epoch in range(0,10):\n",
        "        accuracy = 0\n",
        "        num = 0\n",
        "        model.train()\n",
        "        for X,Y in batches(x_train,y_train,256):\n",
        "            X = torch.Tensor(X.transpose(0, 3, 1, 2)) # Convert X to a PyTorch Tensor\n",
        "            Y = torch.Tensor(Y)\n",
        "            X = X.to(device)\n",
        "            Y = Y.to(device)\n",
        "            prediction = model(X)\n",
        "            loss = loss_func(prediction , Y.long())\n",
        "            optimizer.zero_grad()\n",
        "            loss.backward()\n",
        "            optimizer.step()\n",
        "            accuracy += (prediction.max(1)[1] == Y).sum().item()\n",
        "            num += Y.size(0)\n",
        "        print(accuracy/num)\n",
        "\n",
        "    \n",
        "    accuracy = 0\n",
        "    num = 0\n",
        "    model.eval()\n",
        "    with torch.no_grad():\n",
        "        for X,Y in batches(x_test,y_test):\n",
        "            X = torch.Tensor(X.transpose(0, 3, 1, 2)) # Convert X to a PyTorch Tensor\n",
        "            Y = torch.Tensor(Y)\n",
        "            X = X.to(device)\n",
        "            Y = Y.to(device)\n",
        "            prediction = model(X)\n",
        "            accuracy += (prediction.max(1)[1] == Y).sum().item()\n",
        "            num += Y.size(0)\n",
        "        \n",
        "        z = accuracy/num\n",
        "        print(\"------------>> {} \".format(accuracy/num))\n",
        "        if z < acc_back :\n",
        "            break;\n",
        "        else :\n",
        "            acc_back = z\n"
      ]
    }
  ],
  "metadata": {
    "accelerator": "GPU",
    "colab": {
      "gpuType": "T4",
      "provenance": []
    },
    "kernelspec": {
      "display_name": "Python 3",
      "name": "python3"
    },
    "language_info": {
      "name": "python"
    }
  },
  "nbformat": 4,
  "nbformat_minor": 0
}
